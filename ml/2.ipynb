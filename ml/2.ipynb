{
 "cells": [
  {
   "cell_type": "code",
   "execution_count": 21,
   "metadata": {},
   "outputs": [
    {
     "name": "stdout",
     "output_type": "stream",
     "text": [
      "['Sunny' 'Warm' 'High' 'Strong' '?' '?']\n",
      "[['Sunny', '?', '?', '?', '?', '?'], ['?', 'Warm', '?', '?', '?', '?'], ['?', '?', '?', '?', '?', '?'], ['?', '?', '?', '?', '?', '?'], ['?', '?', '?', '?', '?', '?'], ['?', '?', '?', '?', '?', '?']]\n"
     ]
    }
   ],
   "source": [
    "import pandas as pd\n",
    "import numpy as np\n",
    "data=pd.read_csv('C:\\\\Users\\\\Harshith\\\\Desktop\\\\ML\\\\lll-master\\\\ml\\\\data\\\\ws1.csv')\n",
    "concepts=np.array(data.iloc[:,0:-1])\n",
    "targets=np.array(data.iloc[:,-1])\n",
    "specific_h=concepts[0].copy()\n",
    "for i,val in enumerate(targets):\n",
    "    if targets[i]==\"yes\":\n",
    "        specific_h=concepts[i]\n",
    "        break;\n",
    "generic_h=[[\"?\" for i in range(len(specific_h))]for i in range(len(specific_h))]\n",
    "for i,h in enumerate(concepts):\n",
    "    if targets[i]==\"yes\":\n",
    "        for x in range(len(specific_h)):\n",
    "            if h[x]!=specific_h[x]:\n",
    "                specific_h[x]=\"?\"\n",
    "                generic_h[x][x]=\"?\"\n",
    "    if targets[i]==\"no\":\n",
    "         for x in range(len(specific_h)):\n",
    "                if h[x]!=specific_h[x]:\n",
    "                     generic_h[x][x]=specific_h[x]\n",
    "print(specific_h)\n",
    "print(generic_h)"
   ]
  },
  {
   "cell_type": "code",
   "execution_count": null,
   "metadata": {},
   "outputs": [],
   "source": []
  },
  {
   "cell_type": "code",
   "execution_count": null,
   "metadata": {},
   "outputs": [],
   "source": [
    " "
   ]
  },
  {
   "cell_type": "code",
   "execution_count": null,
   "metadata": {},
   "outputs": [],
   "source": []
  }
 ],
 "metadata": {
  "kernelspec": {
   "display_name": "Python 3",
   "language": "python",
   "name": "python3"
  },
  "language_info": {
   "codemirror_mode": {
    "name": "ipython",
    "version": 3
   },
   "file_extension": ".py",
   "mimetype": "text/x-python",
   "name": "python",
   "nbconvert_exporter": "python",
   "pygments_lexer": "ipython3",
   "version": "3.7.1"
  }
 },
 "nbformat": 4,
 "nbformat_minor": 2
}
